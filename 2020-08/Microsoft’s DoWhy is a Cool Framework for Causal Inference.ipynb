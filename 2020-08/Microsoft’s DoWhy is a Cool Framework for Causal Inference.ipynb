{
 "cells": [
  {
   "cell_type": "markdown",
   "metadata": {},
   "source": [
    "## Microsoft製のオープンソースの統計的因果推論のパッケージ"
   ]
  },
  {
   "cell_type": "markdown",
   "metadata": {},
   "source": [
    "https://github.com/Microsoft/dowhy#sample-causal-inference-analysis-in-dowhy"
   ]
  },
  {
   "cell_type": "code",
   "execution_count": 1,
   "metadata": {
    "ExecuteTime": {
     "end_time": "2020-08-27T00:38:57.380174Z",
     "start_time": "2020-08-27T00:38:54.369675Z"
    }
   },
   "outputs": [
    {
     "name": "stdout",
     "output_type": "stream",
     "text": [
      "Collecting dowhy\n",
      "  Downloading dowhy-0.4-py3-none-any.whl (97 kB)\n",
      "\u001b[K     |████████████████████████████████| 97 kB 2.0 MB/s eta 0:00:01\n",
      "\u001b[?25hRequirement already satisfied: numpy>=1.15 in /opt/conda/lib/python3.7/site-packages (from dowhy) (1.18.4)\n",
      "Requirement already satisfied: networkx>=2.0 in /opt/conda/lib/python3.7/site-packages (from dowhy) (2.4)\n",
      "Requirement already satisfied: scipy in /opt/conda/lib/python3.7/site-packages (from dowhy) (1.4.1)\n",
      "Requirement already satisfied: scikit-learn in /opt/conda/lib/python3.7/site-packages (from dowhy) (0.22.2.post1)\n",
      "Collecting pydot>=1.4\n",
      "  Downloading pydot-1.4.1-py2.py3-none-any.whl (19 kB)\n",
      "Requirement already satisfied: statsmodels in /opt/conda/lib/python3.7/site-packages (from dowhy) (0.11.1)\n",
      "Requirement already satisfied: matplotlib in /opt/conda/lib/python3.7/site-packages (from dowhy) (3.2.1)\n",
      "Requirement already satisfied: sympy>=1.4 in /opt/conda/lib/python3.7/site-packages (from dowhy) (1.5.1)\n",
      "Requirement already satisfied: pandas>=0.24 in /opt/conda/lib/python3.7/site-packages (from dowhy) (1.0.3)\n",
      "Requirement already satisfied: decorator>=4.3.0 in /opt/conda/lib/python3.7/site-packages (from networkx>=2.0->dowhy) (4.4.2)\n",
      "Requirement already satisfied: joblib>=0.11 in /opt/conda/lib/python3.7/site-packages (from scikit-learn->dowhy) (0.14.1)\n",
      "Requirement already satisfied: pyparsing>=2.1.4 in /opt/conda/lib/python3.7/site-packages (from pydot>=1.4->dowhy) (2.4.7)\n",
      "Requirement already satisfied: patsy>=0.5 in /opt/conda/lib/python3.7/site-packages (from statsmodels->dowhy) (0.5.1)\n",
      "Requirement already satisfied: kiwisolver>=1.0.1 in /opt/conda/lib/python3.7/site-packages (from matplotlib->dowhy) (1.2.0)\n",
      "Requirement already satisfied: cycler>=0.10 in /opt/conda/lib/python3.7/site-packages (from matplotlib->dowhy) (0.10.0)\n",
      "Requirement already satisfied: python-dateutil>=2.1 in /opt/conda/lib/python3.7/site-packages (from matplotlib->dowhy) (2.8.1)\n",
      "Requirement already satisfied: mpmath>=0.19 in /opt/conda/lib/python3.7/site-packages (from sympy>=1.4->dowhy) (1.1.0)\n",
      "Requirement already satisfied: pytz>=2017.2 in /opt/conda/lib/python3.7/site-packages (from pandas>=0.24->dowhy) (2020.1)\n",
      "Requirement already satisfied: six in /opt/conda/lib/python3.7/site-packages (from patsy>=0.5->statsmodels->dowhy) (1.14.0)\n",
      "Installing collected packages: pydot, dowhy\n",
      "Successfully installed dowhy-0.4 pydot-1.4.1\n",
      "\u001b[33mWARNING: You are using pip version 20.1.1; however, version 20.2.2 is available.\n",
      "You should consider upgrading via the '/opt/conda/bin/python -m pip install --upgrade pip' command.\u001b[0m\n",
      "Note: you may need to restart the kernel to use updated packages.\n"
     ]
    }
   ],
   "source": [
    "# pip install dowhy"
   ]
  },
  {
   "cell_type": "code",
   "execution_count": 6,
   "metadata": {
    "ExecuteTime": {
     "end_time": "2020-08-27T00:41:25.713658Z",
     "start_time": "2020-08-27T00:41:25.707820Z"
    }
   },
   "outputs": [],
   "source": [
    "import numpy as np\n",
    "import pandas as pd\n",
    "import logging\n",
    "\n",
    "import dowhy\n",
    "from dowhy import CausalModel\n",
    "import dowhy.datasets"
   ]
  },
  {
   "cell_type": "code",
   "execution_count": 7,
   "metadata": {
    "ExecuteTime": {
     "end_time": "2020-08-27T00:41:35.892690Z",
     "start_time": "2020-08-27T00:41:35.419645Z"
    }
   },
   "outputs": [
    {
     "data": {
      "text/html": [
       "<div>\n",
       "<style scoped>\n",
       "    .dataframe tbody tr th:only-of-type {\n",
       "        vertical-align: middle;\n",
       "    }\n",
       "\n",
       "    .dataframe tbody tr th {\n",
       "        vertical-align: top;\n",
       "    }\n",
       "\n",
       "    .dataframe thead th {\n",
       "        text-align: right;\n",
       "    }\n",
       "</style>\n",
       "<table border=\"1\" class=\"dataframe\">\n",
       "  <thead>\n",
       "    <tr style=\"text-align: right;\">\n",
       "      <th></th>\n",
       "      <th>Z0</th>\n",
       "      <th>Z1</th>\n",
       "      <th>W0</th>\n",
       "      <th>W1</th>\n",
       "      <th>W2</th>\n",
       "      <th>W3</th>\n",
       "      <th>W4</th>\n",
       "      <th>v0</th>\n",
       "      <th>y</th>\n",
       "    </tr>\n",
       "  </thead>\n",
       "  <tbody>\n",
       "    <tr>\n",
       "      <th>0</th>\n",
       "      <td>1.0</td>\n",
       "      <td>0.568257</td>\n",
       "      <td>2.364327</td>\n",
       "      <td>0.340776</td>\n",
       "      <td>-1.085089</td>\n",
       "      <td>-0.728332</td>\n",
       "      <td>1.130325</td>\n",
       "      <td>True</td>\n",
       "      <td>21.221158</td>\n",
       "    </tr>\n",
       "    <tr>\n",
       "      <th>1</th>\n",
       "      <td>1.0</td>\n",
       "      <td>0.553410</td>\n",
       "      <td>1.329025</td>\n",
       "      <td>-0.705964</td>\n",
       "      <td>-0.762967</td>\n",
       "      <td>0.604483</td>\n",
       "      <td>0.498310</td>\n",
       "      <td>True</td>\n",
       "      <td>13.837676</td>\n",
       "    </tr>\n",
       "    <tr>\n",
       "      <th>2</th>\n",
       "      <td>1.0</td>\n",
       "      <td>0.935963</td>\n",
       "      <td>1.521403</td>\n",
       "      <td>-0.203500</td>\n",
       "      <td>-0.307679</td>\n",
       "      <td>0.332065</td>\n",
       "      <td>0.657882</td>\n",
       "      <td>True</td>\n",
       "      <td>17.889136</td>\n",
       "    </tr>\n",
       "    <tr>\n",
       "      <th>3</th>\n",
       "      <td>1.0</td>\n",
       "      <td>0.586518</td>\n",
       "      <td>1.353724</td>\n",
       "      <td>0.082542</td>\n",
       "      <td>-1.741458</td>\n",
       "      <td>2.277628</td>\n",
       "      <td>-2.329412</td>\n",
       "      <td>True</td>\n",
       "      <td>7.862703</td>\n",
       "    </tr>\n",
       "    <tr>\n",
       "      <th>4</th>\n",
       "      <td>1.0</td>\n",
       "      <td>0.109410</td>\n",
       "      <td>0.112294</td>\n",
       "      <td>1.046211</td>\n",
       "      <td>-1.283567</td>\n",
       "      <td>-0.282282</td>\n",
       "      <td>2.131377</td>\n",
       "      <td>True</td>\n",
       "      <td>20.170387</td>\n",
       "    </tr>\n",
       "    <tr>\n",
       "      <th>...</th>\n",
       "      <td>...</td>\n",
       "      <td>...</td>\n",
       "      <td>...</td>\n",
       "      <td>...</td>\n",
       "      <td>...</td>\n",
       "      <td>...</td>\n",
       "      <td>...</td>\n",
       "      <td>...</td>\n",
       "      <td>...</td>\n",
       "    </tr>\n",
       "    <tr>\n",
       "      <th>9995</th>\n",
       "      <td>1.0</td>\n",
       "      <td>0.738864</td>\n",
       "      <td>-0.159912</td>\n",
       "      <td>-0.230145</td>\n",
       "      <td>0.474671</td>\n",
       "      <td>1.834301</td>\n",
       "      <td>-0.254512</td>\n",
       "      <td>True</td>\n",
       "      <td>12.873064</td>\n",
       "    </tr>\n",
       "    <tr>\n",
       "      <th>9996</th>\n",
       "      <td>1.0</td>\n",
       "      <td>0.484274</td>\n",
       "      <td>-0.581245</td>\n",
       "      <td>-0.221582</td>\n",
       "      <td>-1.652722</td>\n",
       "      <td>2.183223</td>\n",
       "      <td>-1.189933</td>\n",
       "      <td>True</td>\n",
       "      <td>3.419320</td>\n",
       "    </tr>\n",
       "    <tr>\n",
       "      <th>9997</th>\n",
       "      <td>1.0</td>\n",
       "      <td>0.728395</td>\n",
       "      <td>1.008791</td>\n",
       "      <td>-0.858791</td>\n",
       "      <td>-1.283863</td>\n",
       "      <td>0.375959</td>\n",
       "      <td>1.109952</td>\n",
       "      <td>True</td>\n",
       "      <td>12.607558</td>\n",
       "    </tr>\n",
       "    <tr>\n",
       "      <th>9998</th>\n",
       "      <td>1.0</td>\n",
       "      <td>0.419363</td>\n",
       "      <td>1.943529</td>\n",
       "      <td>0.992158</td>\n",
       "      <td>-0.774849</td>\n",
       "      <td>1.251885</td>\n",
       "      <td>-0.436988</td>\n",
       "      <td>True</td>\n",
       "      <td>21.684429</td>\n",
       "    </tr>\n",
       "    <tr>\n",
       "      <th>9999</th>\n",
       "      <td>1.0</td>\n",
       "      <td>0.805409</td>\n",
       "      <td>0.774927</td>\n",
       "      <td>-0.451527</td>\n",
       "      <td>0.785501</td>\n",
       "      <td>-2.754442</td>\n",
       "      <td>-3.146748</td>\n",
       "      <td>True</td>\n",
       "      <td>-6.666149</td>\n",
       "    </tr>\n",
       "  </tbody>\n",
       "</table>\n",
       "<p>10000 rows × 9 columns</p>\n",
       "</div>"
      ],
      "text/plain": [
       "       Z0        Z1        W0        W1        W2        W3        W4    v0  \\\n",
       "0     1.0  0.568257  2.364327  0.340776 -1.085089 -0.728332  1.130325  True   \n",
       "1     1.0  0.553410  1.329025 -0.705964 -0.762967  0.604483  0.498310  True   \n",
       "2     1.0  0.935963  1.521403 -0.203500 -0.307679  0.332065  0.657882  True   \n",
       "3     1.0  0.586518  1.353724  0.082542 -1.741458  2.277628 -2.329412  True   \n",
       "4     1.0  0.109410  0.112294  1.046211 -1.283567 -0.282282  2.131377  True   \n",
       "...   ...       ...       ...       ...       ...       ...       ...   ...   \n",
       "9995  1.0  0.738864 -0.159912 -0.230145  0.474671  1.834301 -0.254512  True   \n",
       "9996  1.0  0.484274 -0.581245 -0.221582 -1.652722  2.183223 -1.189933  True   \n",
       "9997  1.0  0.728395  1.008791 -0.858791 -1.283863  0.375959  1.109952  True   \n",
       "9998  1.0  0.419363  1.943529  0.992158 -0.774849  1.251885 -0.436988  True   \n",
       "9999  1.0  0.805409  0.774927 -0.451527  0.785501 -2.754442 -3.146748  True   \n",
       "\n",
       "              y  \n",
       "0     21.221158  \n",
       "1     13.837676  \n",
       "2     17.889136  \n",
       "3      7.862703  \n",
       "4     20.170387  \n",
       "...         ...  \n",
       "9995  12.873064  \n",
       "9996   3.419320  \n",
       "9997  12.607558  \n",
       "9998  21.684429  \n",
       "9999  -6.666149  \n",
       "\n",
       "[10000 rows x 9 columns]"
      ]
     },
     "execution_count": 7,
     "metadata": {},
     "output_type": "execute_result"
    }
   ],
   "source": [
    "data = dowhy.datasets.linear_dataset(beta=10,\n",
    "        num_common_causes=5, \n",
    "        num_instruments = 2,\n",
    "        num_treatments=1,\n",
    "        num_samples=10000,\n",
    "        treatment_is_binary=True,\n",
    "        outcome_is_binary=False)\n",
    "df = data[\"df\"]\n",
    "df"
   ]
  },
  {
   "cell_type": "code",
   "execution_count": 14,
   "metadata": {
    "ExecuteTime": {
     "end_time": "2020-08-27T00:44:58.398139Z",
     "start_time": "2020-08-27T00:44:58.377547Z"
    }
   },
   "outputs": [
    {
     "data": {
      "text/plain": [
       "{'df':        Z0        Z1        W0        W1        W2        W3        W4    v0  \\\n",
       " 0     1.0  0.568257  2.364327  0.340776 -1.085089 -0.728332  1.130325  True   \n",
       " 1     1.0  0.553410  1.329025 -0.705964 -0.762967  0.604483  0.498310  True   \n",
       " 2     1.0  0.935963  1.521403 -0.203500 -0.307679  0.332065  0.657882  True   \n",
       " 3     1.0  0.586518  1.353724  0.082542 -1.741458  2.277628 -2.329412  True   \n",
       " 4     1.0  0.109410  0.112294  1.046211 -1.283567 -0.282282  2.131377  True   \n",
       " ...   ...       ...       ...       ...       ...       ...       ...   ...   \n",
       " 9995  1.0  0.738864 -0.159912 -0.230145  0.474671  1.834301 -0.254512  True   \n",
       " 9996  1.0  0.484274 -0.581245 -0.221582 -1.652722  2.183223 -1.189933  True   \n",
       " 9997  1.0  0.728395  1.008791 -0.858791 -1.283863  0.375959  1.109952  True   \n",
       " 9998  1.0  0.419363  1.943529  0.992158 -0.774849  1.251885 -0.436988  True   \n",
       " 9999  1.0  0.805409  0.774927 -0.451527  0.785501 -2.754442 -3.146748  True   \n",
       " \n",
       "               y  propensity_score  strata  dbar        d_y  dbar_y  \n",
       " 0     21.221158          0.999936    38.0     0  21.221158     0.0  \n",
       " 1     13.837676          0.999262    20.0     0  13.837676     0.0  \n",
       " 2     17.889136          0.999859    33.0     0  17.889136     0.0  \n",
       " 3      7.862703          0.998749    16.0     0   7.862703     0.0  \n",
       " 4     20.170387          0.998274    14.0     0  20.170387     0.0  \n",
       " ...         ...               ...     ...   ...        ...     ...  \n",
       " 9995  12.873064          0.999306    21.0     0  12.873064     0.0  \n",
       " 9996   3.419320          0.958214     2.0     0   3.419320     0.0  \n",
       " 9997  12.607558          0.996448    10.0     0  12.607558     0.0  \n",
       " 9998  21.684429          0.999968    41.0     0  21.684429     0.0  \n",
       " 9999  -6.666149          0.999815    31.0     0  -6.666149    -0.0  \n",
       " \n",
       " [10000 rows x 14 columns],\n",
       " 'treatment_name': ['v0'],\n",
       " 'outcome_name': 'y',\n",
       " 'common_causes_names': ['W0', 'W1', 'W2', 'W3', 'W4'],\n",
       " 'instrument_names': ['Z0', 'Z1'],\n",
       " 'effect_modifier_names': [],\n",
       " 'dot_graph': 'digraph { U[label=\"Unobserved Confounders\"]; U->y;v0->y; U->v0;W0-> v0; W1-> v0; W2-> v0; W3-> v0; W4-> v0;Z0-> v0; Z1-> v0;W0-> y; W1-> y; W2-> y; W3-> y; W4-> y;}',\n",
       " 'gml_graph': 'graph[directed 1node[ id \"y\" label \"y\"]node[ id \"Unobserved Confounders\" label \"Unobserved Confounders\"]edge[source \"Unobserved Confounders\" target \"y\"]node[ id \"W0\" label \"W0\"] node[ id \"W1\" label \"W1\"] node[ id \"W2\" label \"W2\"] node[ id \"W3\" label \"W3\"] node[ id \"W4\" label \"W4\"]node[ id \"Z0\" label \"Z0\"] node[ id \"Z1\" label \"Z1\"]node[ id \"v0\" label \"v0\"]edge[source \"v0\" target \"y\"]edge[source \"Unobserved Confounders\" target \"v0\"]edge[ source \"W0\" target \"v0\"] edge[ source \"W1\" target \"v0\"] edge[ source \"W2\" target \"v0\"] edge[ source \"W3\" target \"v0\"] edge[ source \"W4\" target \"v0\"]edge[ source \"Z0\" target \"v0\"] edge[ source \"Z1\" target \"v0\"]edge[ source \"W0\" target \"y\"] edge[ source \"W1\" target \"y\"] edge[ source \"W2\" target \"y\"] edge[ source \"W3\" target \"y\"] edge[ source \"W4\" target \"y\"]]',\n",
       " 'ate': 10.0}"
      ]
     },
     "execution_count": 14,
     "metadata": {},
     "output_type": "execute_result"
    }
   ],
   "source": [
    "data"
   ]
  },
  {
   "cell_type": "code",
   "execution_count": 8,
   "metadata": {
    "ExecuteTime": {
     "end_time": "2020-08-27T00:41:52.423899Z",
     "start_time": "2020-08-27T00:41:52.412296Z"
    }
   },
   "outputs": [
    {
     "name": "stderr",
     "output_type": "stream",
     "text": [
      "INFO:dowhy.causal_model:Model to find the causal effect of treatment ['v0'] on outcome ['y']\n"
     ]
    }
   ],
   "source": [
    "# With graph\n",
    "model=CausalModel(\n",
    "        data = df,\n",
    "        treatment=data[\"treatment_name\"],\n",
    "        outcome=data[\"outcome_name\"],\n",
    "        graph=data[\"gml_graph\"],\n",
    "        instruments=data[\"instrument_names\"],\n",
    "        logging_level = logging.INFO\n",
    "        )"
   ]
  },
  {
   "cell_type": "code",
   "execution_count": 9,
   "metadata": {
    "ExecuteTime": {
     "end_time": "2020-08-27T00:42:01.538399Z",
     "start_time": "2020-08-27T00:42:00.849329Z"
    }
   },
   "outputs": [
    {
     "name": "stderr",
     "output_type": "stream",
     "text": [
      "WARNING:dowhy.causal_graph:Warning: Pygraphviz cannot be loaded. Check that graphviz and pygraphviz are installed.\n",
      "INFO:dowhy.causal_graph:Using Matplotlib for plotting\n"
     ]
    },
    {
     "data": {
      "image/png": "[encoded data removed]",
      "text/plain": [
       "<Figure size 432x288 with 1 Axes>"
      ]
     },
     "metadata": {},
     "output_type": "display_data"
    }
   ],
   "source": [
    "model.view_model()"
   ]
  },
  {
   "cell_type": "code",
   "execution_count": 15,
   "metadata": {
    "ExecuteTime": {
     "end_time": "2020-08-27T00:45:28.520771Z",
     "start_time": "2020-08-27T00:45:28.515710Z"
    }
   },
   "outputs": [],
   "source": [
    "# from IPython.display import Image, display\n",
    "# display(Image(filename=\"causal_model.png\"))"
   ]
  },
  {
   "cell_type": "code",
   "execution_count": 11,
   "metadata": {
    "ExecuteTime": {
     "end_time": "2020-08-27T00:42:31.420768Z",
     "start_time": "2020-08-27T00:42:28.100721Z"
    }
   },
   "outputs": [
    {
     "name": "stderr",
     "output_type": "stream",
     "text": [
      "INFO:dowhy.causal_identifier:Common causes of treatment and outcome:['W2', 'W4', 'W0', 'W1', 'W3', 'Unobserved Confounders']\n",
      "WARNING:dowhy.causal_identifier:If this is observed data (not from a randomized experiment), there might always be missing confounders. Causal effect cannot be identified perfectly.\n"
     ]
    },
    {
     "name": "stdout",
     "output_type": "stream",
     "text": [
      "WARN: Do you want to continue by ignoring any unobserved confounders? (use proceed_when_unidentifiable=True to disable this prompt) [y/n] y\n"
     ]
    },
    {
     "name": "stderr",
     "output_type": "stream",
     "text": [
      "INFO:dowhy.causal_identifier:Instrumental variables for treatment and outcome:['Z1', 'Z0']\n"
     ]
    },
    {
     "name": "stdout",
     "output_type": "stream",
     "text": [
      "Estimand type: nonparametric-ate\n",
      "### Estimand : 1\n",
      "Estimand name: backdoor\n",
      "Estimand expression:\n",
      "  d                                 \n",
      "─────(Expectation(y|W2,W4,W0,W1,W3))\n",
      "d[v₀]                               \n",
      "Estimand assumption 1, Unconfoundedness: If U→{v0} and U→y then P(y|v0,W2,W4,W0,W1,W3,U) = P(y|v0,W2,W4,W0,W1,W3)\n",
      "### Estimand : 2\n",
      "Estimand name: iv\n",
      "Estimand expression:\n",
      "Expectation(Derivative(y, [Z1, Z0])*Derivative([v0], [Z1, Z0])**(-1))\n",
      "Estimand assumption 1, As-if-random: If U→→y then ¬(U →→{Z1,Z0})\n",
      "Estimand assumption 2, Exclusion: If we remove {Z1,Z0}→{v0}, then ¬({Z1,Z0}→y)\n",
      "\n"
     ]
    }
   ],
   "source": [
    "identified_estimand = model.identify_effect()\n",
    "print(identified_estimand)"
   ]
  },
  {
   "cell_type": "markdown",
   "metadata": {},
   "source": [
    "## Method1 : Regression"
   ]
  },
  {
   "cell_type": "code",
   "execution_count": 12,
   "metadata": {
    "ExecuteTime": {
     "end_time": "2020-08-27T00:43:13.350144Z",
     "start_time": "2020-08-27T00:43:12.928304Z"
    }
   },
   "outputs": [
    {
     "name": "stderr",
     "output_type": "stream",
     "text": [
      "INFO:dowhy.causal_estimator:INFO: Using Linear Regression Estimator\n",
      "INFO:dowhy.causal_estimator:b: y~v0+W2+W4+W0+W1+W3\n"
     ]
    },
    {
     "name": "stdout",
     "output_type": "stream",
     "text": [
      "                            OLS Regression Results                            \n",
      "==============================================================================\n",
      "Dep. Variable:                      y   R-squared:                       1.000\n",
      "Model:                            OLS   Adj. R-squared:                  1.000\n",
      "Method:                 Least Squares   F-statistic:                 3.608e+29\n",
      "Date:                Thu, 27 Aug 2020   Prob (F-statistic):               0.00\n",
      "Time:                        00:43:13   Log-Likelihood:             2.6811e+05\n",
      "No. Observations:               10000   AIC:                        -5.362e+05\n",
      "Df Residuals:                    9993   BIC:                        -5.362e+05\n",
      "Df Model:                           6                                         \n",
      "Covariance Type:            nonrobust                                         \n",
      "==============================================================================\n",
      "                 coef    std err          t      P>|t|      [0.025      0.975]\n",
      "------------------------------------------------------------------------------\n",
      "const       -3.26e-13   6.15e-14     -5.299      0.000   -4.47e-13   -2.05e-13\n",
      "x1            10.0000   6.18e-14   1.62e+14      0.000      10.000      10.000\n",
      "x2             2.2942   5.56e-15   4.13e+14      0.000       2.294       2.294\n",
      "x3             4.0573   5.49e-15   7.39e+14      0.000       4.057       4.057\n",
      "x4             3.9635   5.49e-15   7.22e+14      0.000       3.964       3.964\n",
      "x5             4.5047    5.6e-15   8.04e+14      0.000       4.505       4.505\n",
      "x6             2.4463   5.59e-15   4.38e+14      0.000       2.446       2.446\n",
      "==============================================================================\n",
      "Omnibus:                    14775.652   Durbin-Watson:                   0.003\n",
      "Prob(Omnibus):                  0.000   Jarque-Bera (JB):          3838906.117\n",
      "Skew:                          -9.300   Prob(JB):                         0.00\n",
      "Kurtosis:                      97.167   Cond. No.                         30.9\n",
      "==============================================================================\n",
      "\n",
      "Warnings:\n",
      "[1] Standard Errors assume that the covariance matrix of the errors is correctly specified.\n",
      "*** Causal Estimate ***\n",
      "\n",
      "## Identified estimand\n",
      "Estimand type: nonparametric-ate\n",
      "### Estimand : 1\n",
      "Estimand name: backdoor\n",
      "Estimand expression:\n",
      "  d                                 \n",
      "─────(Expectation(y|W2,W4,W0,W1,W3))\n",
      "d[v₀]                               \n",
      "Estimand assumption 1, Unconfoundedness: If U→{v0} and U→y then P(y|v0,W2,W4,W0,W1,W3,U) = P(y|v0,W2,W4,W0,W1,W3)\n",
      "### Estimand : 2\n",
      "Estimand name: iv\n",
      "Estimand expression:\n",
      "Expectation(Derivative(y, [Z1, Z0])*Derivative([v0], [Z1, Z0])**(-1))\n",
      "Estimand assumption 1, As-if-random: If U→→y then ¬(U →→{Z1,Z0})\n",
      "Estimand assumption 2, Exclusion: If we remove {Z1,Z0}→{v0}, then ¬({Z1,Z0}→y)\n",
      "\n",
      "## Realized estimand\n",
      "b: y~v0+W2+W4+W0+W1+W3\n",
      "Target units: ate\n",
      "\n",
      "## Estimate\n",
      "Mean value: 9.999999999999773\n",
      "p-value: [0.]\n",
      "\n",
      "Causal Estimate is 9.999999999999773\n"
     ]
    }
   ],
   "source": [
    "causal_estimate_reg = model.estimate_effect(identified_estimand,\n",
    "        method_name=\"backdoor.linear_regression\",\n",
    "        test_significance=True)\n",
    "print(causal_estimate_reg)\n",
    "print(\"Causal Estimate is \" + str(causal_estimate_reg.value))"
   ]
  },
  {
   "cell_type": "markdown",
   "metadata": {},
   "source": [
    "## Method2 : Stratification"
   ]
  },
  {
   "cell_type": "code",
   "execution_count": 13,
   "metadata": {
    "ExecuteTime": {
     "end_time": "2020-08-27T00:43:59.559538Z",
     "start_time": "2020-08-27T00:43:59.341951Z"
    }
   },
   "outputs": [
    {
     "name": "stderr",
     "output_type": "stream",
     "text": [
      "INFO:dowhy.causal_estimator:INFO: Using Propensity Score Stratification Estimator\n",
      "INFO:dowhy.causal_estimator:b: y~v0+W2+W4+W0+W1+W3\n",
      "/opt/conda/lib/python3.7/site-packages/sklearn/utils/validation.py:760: DataConversionWarning: A column-vector y was passed when a 1d array was expected. Please change the shape of y to (n_samples, ), for example using ravel().\n",
      "  y = column_or_1d(y, warn=True)\n",
      "INFO:numexpr.utils:NumExpr defaulting to 4 threads.\n"
     ]
    },
    {
     "name": "stdout",
     "output_type": "stream",
     "text": [
      "*** Causal Estimate ***\n",
      "\n",
      "## Identified estimand\n",
      "Estimand type: nonparametric-ate\n",
      "### Estimand : 1\n",
      "Estimand name: backdoor\n",
      "Estimand expression:\n",
      "  d                                 \n",
      "─────(Expectation(y|W2,W4,W0,W1,W3))\n",
      "d[v₀]                               \n",
      "Estimand assumption 1, Unconfoundedness: If U→{v0} and U→y then P(y|v0,W2,W4,W0,W1,W3,U) = P(y|v0,W2,W4,W0,W1,W3)\n",
      "### Estimand : 2\n",
      "Estimand name: iv\n",
      "Estimand expression:\n",
      "Expectation(Derivative(y, [Z1, Z0])*Derivative([v0], [Z1, Z0])**(-1))\n",
      "Estimand assumption 1, As-if-random: If U→→y then ¬(U →→{Z1,Z0})\n",
      "Estimand assumption 2, Exclusion: If we remove {Z1,Z0}→{v0}, then ¬({Z1,Z0}→y)\n",
      "\n",
      "## Realized estimand\n",
      "b: y~v0+W2+W4+W0+W1+W3\n",
      "Target units: att\n",
      "\n",
      "## Estimate\n",
      "Mean value: 9.66123943013791\n",
      "\n",
      "Causal Estimate is 9.66123943013791\n"
     ]
    }
   ],
   "source": [
    "causal_estimate_strat = model.estimate_effect(identified_estimand,\n",
    "                                              method_name=\"backdoor.propensity_score_stratification\",\n",
    "                                              target_units=\"att\")\n",
    "print(causal_estimate_strat)\n",
    "print(\"Causal Estimate is \" + str(causal_estimate_strat.value))"
   ]
  },
  {
   "cell_type": "code",
   "execution_count": null,
   "metadata": {},
   "outputs": [],
   "source": []
  }
 ],
 "metadata": {
  "kernelspec": {
   "display_name": "Python 3",
   "language": "python",
   "name": "python3"
  },
  "language_info": {
   "codemirror_mode": {
    "name": "ipython",
    "version": 3
   },
   "file_extension": ".py",
   "mimetype": "text/x-python",
   "name": "python",
   "nbconvert_exporter": "python",
   "pygments_lexer": "ipython3",
   "version": "3.7.6"
  },
  "varInspector": {
   "cols": {
    "lenName": 16,
    "lenType": 16,
    "lenVar": 40
   },
   "kernels_config": {
    "python": {
     "delete_cmd_postfix": "",
     "delete_cmd_prefix": "del ",
     "library": "var_list.py",
     "varRefreshCmd": "print(var_dic_list())"
    },
    "r": {
     "delete_cmd_postfix": ") ",
     "delete_cmd_prefix": "rm(",
     "library": "var_list.r",
     "varRefreshCmd": "cat(var_dic_list()) "
    }
   },
   "types_to_exclude": [
    "module",
    "function",
    "builtin_function_or_method",
    "instance",
    "_Feature"
   ],
   "window_display": false
  }
 },
 "nbformat": 4,
 "nbformat_minor": 4
}
