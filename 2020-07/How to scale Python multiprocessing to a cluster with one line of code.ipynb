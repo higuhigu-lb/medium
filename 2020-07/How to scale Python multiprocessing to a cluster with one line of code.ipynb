{
 "cells": [
  {
   "cell_type": "markdown",
   "metadata": {},
   "source": [
    "## Serial Python"
   ]
  },
  {
   "cell_type": "code",
   "execution_count": 1,
   "metadata": {
    "ExecuteTime": {
     "end_time": "2020-07-13T00:49:13.739148Z",
     "start_time": "2020-07-13T00:49:13.727953Z"
    }
   },
   "outputs": [],
   "source": [
    "import math\n",
    "import random\n",
    "import time\n",
    "\n",
    "def sample(num_samples):\n",
    "    num_inside = 0\n",
    "    for _ in range(num_samples):\n",
    "        x, y = random.uniform(-1, 1), random.uniform(-1, 1)\n",
    "        if math.hypot(x, y) <= 1:\n",
    "            num_inside += 1\n",
    "    return num_inside\n",
    "\n",
    "def approximate_pi(num_samples):\n",
    "    start = time.time()\n",
    "    num_inside = sample(num_samples)\n",
    "    \n",
    "    print(\"pi ~= {}\".format((4*num_inside)/num_samples))\n",
    "    print(\"Finished in: {:.2f}s\".format(time.time()-start))"
   ]
  },
  {
   "cell_type": "code",
   "execution_count": 5,
   "metadata": {
    "ExecuteTime": {
     "end_time": "2020-07-13T00:51:27.263459Z",
     "start_time": "2020-07-13T00:49:49.795614Z"
    }
   },
   "outputs": [
    {
     "name": "stdout",
     "output_type": "stream",
     "text": [
      "pi ~= 3.14165028\n",
      "Finished in: 97.46s\n"
     ]
    }
   ],
   "source": [
    "approximate_pi(100000000)"
   ]
  },
  {
   "cell_type": "markdown",
   "metadata": {},
   "source": [
    "## Parallel on one machine using multiprocessing.Pool"
   ]
  },
  {
   "cell_type": "code",
   "execution_count": 6,
   "metadata": {
    "ExecuteTime": {
     "end_time": "2020-07-13T00:51:50.813131Z",
     "start_time": "2020-07-13T00:51:50.799068Z"
    }
   },
   "outputs": [],
   "source": [
    "import math\n",
    "import random\n",
    "import time\n",
    "\n",
    "def sample(num_samples):\n",
    "    num_inside = 0\n",
    "    for _ in range(num_samples):\n",
    "        x, y = random.uniform(-1, 1), random.uniform(-1, 1)\n",
    "        if math.hypot(x, y) <= 1:\n",
    "            num_inside += 1\n",
    "    return num_inside\n",
    "\n",
    "def approximate_pi_parallel(num_samples):\n",
    "    from multiprocessing.pool import Pool\n",
    "    pool = Pool()\n",
    "    \n",
    "    start = time.time()\n",
    "    num_inside = 0\n",
    "    sample_batch_size = 100000\n",
    "    for result in pool.map(sample, [sample_batch_size for _ in range(num_samples//sample_batch_size)]):\n",
    "        num_inside += result\n",
    "        \n",
    "    print(\"pi ~= {}\".format((4*num_inside)/num_samples))\n",
    "    print(\"Finished in: {:.2f}s\".format(time.time()-start))"
   ]
  },
  {
   "cell_type": "code",
   "execution_count": 8,
   "metadata": {
    "ExecuteTime": {
     "end_time": "2020-07-13T00:54:21.219663Z",
     "start_time": "2020-07-13T00:53:50.950711Z"
    }
   },
   "outputs": [
    {
     "name": "stdout",
     "output_type": "stream",
     "text": [
      "pi ~= 3.14178832\n",
      "Finished in: 30.23s\n"
     ]
    }
   ],
   "source": [
    "approximate_pi_parallel(100000000)"
   ]
  },
  {
   "cell_type": "markdown",
   "metadata": {},
   "source": [
    "## Distributed on a 10-node cluster using Ray"
   ]
  },
  {
   "cell_type": "code",
   "execution_count": 2,
   "metadata": {
    "ExecuteTime": {
     "end_time": "2020-07-13T02:07:17.598078Z",
     "start_time": "2020-07-13T02:06:52.525557Z"
    }
   },
   "outputs": [
    {
     "name": "stdout",
     "output_type": "stream",
     "text": [
      "Collecting ray\n",
      "  Downloading ray-0.8.6-cp37-cp37m-macosx_10_13_intel.whl (53.4 MB)\n",
      "\u001b[K     |████████████████████████████████| 53.4 MB 7.4 MB/s eta 0:00:011\n",
      "\u001b[?25hRequirement already satisfied: protobuf>=3.8.0 in /usr/local/lib/python3.7/site-packages (from ray) (3.11.3)\n",
      "Requirement already satisfied: pyyaml in /usr/local/lib/python3.7/site-packages (from ray) (5.3)\n",
      "Requirement already satisfied: jsonschema in /usr/local/lib/python3.7/site-packages (from ray) (3.2.0)\n",
      "Collecting click>=7.0\n",
      "  Using cached click-7.1.2-py2.py3-none-any.whl (82 kB)\n",
      "Collecting filelock\n",
      "  Using cached filelock-3.0.12-py3-none-any.whl (7.6 kB)\n",
      "Collecting msgpack<2.0.0,>=0.6.0\n",
      "  Using cached msgpack-1.0.0-cp37-cp37m-macosx_10_13_x86_64.whl (78 kB)\n",
      "Collecting google\n",
      "  Downloading google-3.0.0-py2.py3-none-any.whl (45 kB)\n",
      "\u001b[K     |████████████████████████████████| 45 kB 4.1 MB/s eta 0:00:011\n",
      "\u001b[?25hRequirement already satisfied: numpy>=1.16 in /usr/local/lib/python3.7/site-packages (from ray) (1.19.0)\n",
      "Collecting redis<3.5.0,>=3.3.2\n",
      "  Using cached redis-3.4.1-py2.py3-none-any.whl (71 kB)\n",
      "Collecting py-spy>=0.2.0\n",
      "  Downloading py_spy-0.3.3-py2.py3-none-macosx_10_7_x86_64.whl (1.5 MB)\n",
      "\u001b[K     |████████████████████████████████| 1.5 MB 18.0 MB/s eta 0:00:01\n",
      "\u001b[?25hCollecting aiohttp\n",
      "  Downloading aiohttp-3.6.2-cp37-cp37m-macosx_10_13_x86_64.whl (642 kB)\n",
      "\u001b[K     |████████████████████████████████| 642 kB 9.2 MB/s eta 0:00:01\n",
      "\u001b[?25hCollecting colorama\n",
      "  Downloading colorama-0.4.3-py2.py3-none-any.whl (15 kB)\n",
      "Requirement already satisfied: grpcio in /usr/local/lib/python3.7/site-packages (from ray) (1.27.2)\n",
      "Requirement already satisfied: six>=1.9 in /usr/local/lib/python3.7/site-packages (from protobuf>=3.8.0->ray) (1.14.0)\n",
      "Requirement already satisfied: setuptools in /usr/local/lib/python3.7/site-packages (from protobuf>=3.8.0->ray) (46.0.0)\n",
      "Requirement already satisfied: pyrsistent>=0.14.0 in /usr/local/lib/python3.7/site-packages (from jsonschema->ray) (0.16.0)\n",
      "Requirement already satisfied: attrs>=17.4.0 in /usr/local/lib/python3.7/site-packages (from jsonschema->ray) (19.3.0)\n",
      "Requirement already satisfied: importlib-metadata; python_version < \"3.8\" in /usr/local/lib/python3.7/site-packages (from jsonschema->ray) (1.6.1)\n",
      "Collecting beautifulsoup4\n",
      "  Downloading beautifulsoup4-4.9.1-py3-none-any.whl (115 kB)\n",
      "\u001b[K     |████████████████████████████████| 115 kB 8.4 MB/s eta 0:00:01\n",
      "\u001b[?25hCollecting yarl<2.0,>=1.0\n",
      "  Downloading yarl-1.4.2-cp37-cp37m-macosx_10_13_x86_64.whl (125 kB)\n",
      "\u001b[K     |████████████████████████████████| 125 kB 18.3 MB/s eta 0:00:01\n",
      "\u001b[?25hRequirement already satisfied: chardet<4.0,>=2.0 in /usr/local/lib/python3.7/site-packages (from aiohttp->ray) (3.0.4)\n",
      "Collecting multidict<5.0,>=4.5\n",
      "  Downloading multidict-4.7.6-cp37-cp37m-macosx_10_14_x86_64.whl (48 kB)\n",
      "\u001b[K     |████████████████████████████████| 48 kB 4.2 MB/s eta 0:00:011\n",
      "\u001b[?25hCollecting async-timeout<4.0,>=3.0\n",
      "  Downloading async_timeout-3.0.1-py3-none-any.whl (8.2 kB)\n",
      "Requirement already satisfied: zipp>=0.5 in /usr/local/lib/python3.7/site-packages (from importlib-metadata; python_version < \"3.8\"->jsonschema->ray) (3.1.0)\n",
      "Collecting soupsieve>1.2\n",
      "  Downloading soupsieve-2.0.1-py3-none-any.whl (32 kB)\n",
      "Requirement already satisfied: idna>=2.0 in /usr/local/lib/python3.7/site-packages (from yarl<2.0,>=1.0->aiohttp->ray) (2.9)\n",
      "Installing collected packages: click, filelock, msgpack, soupsieve, beautifulsoup4, google, redis, py-spy, multidict, yarl, async-timeout, aiohttp, colorama, ray\n",
      "Successfully installed aiohttp-3.6.2 async-timeout-3.0.1 beautifulsoup4-4.9.1 click-7.1.2 colorama-0.4.3 filelock-3.0.12 google-3.0.0 msgpack-1.0.0 multidict-4.7.6 py-spy-0.3.3 ray-0.8.6 redis-3.4.1 soupsieve-2.0.1 yarl-1.4.2\n",
      "Processing /Users/higuchishou1/Library/Caches/pip/wheels/b6/e7/50/aee9cc966163d74430f13f208171dee22f11efa4a4a826661c/psutil-5.7.0-cp37-cp37m-macosx_10_15_x86_64.whl\n",
      "Installing collected packages: psutil\n",
      "Successfully installed psutil-5.7.0\n",
      "Collecting setproctitle\n",
      "  Downloading setproctitle-1.1.10.tar.gz (24 kB)\n",
      "Building wheels for collected packages: setproctitle\n",
      "  Building wheel for setproctitle (setup.py) ... \u001b[?25ldone\n",
      "\u001b[?25h  Created wheel for setproctitle: filename=setproctitle-1.1.10-cp37-cp37m-macosx_10_15_x86_64.whl size=10136 sha256=3f3f2631a4d04864d19836b633a6b1c64f023db3aa8abbb2645c02a180461483\n",
      "  Stored in directory: /Users/higuchishou1/Library/Caches/pip/wheels/02/79/9a/ad2d16e975ac2a43458abc7f87089779308c3018f92bff11b4\n",
      "Successfully built setproctitle\n",
      "Installing collected packages: setproctitle\n",
      "Successfully installed setproctitle-1.1.10\n"
     ]
    }
   ],
   "source": [
    "!pip3 install ray\n",
    "!pip3 install psutil\n",
    "!pip3 install setproctitle"
   ]
  },
  {
   "cell_type": "code",
   "execution_count": 4,
   "metadata": {
    "ExecuteTime": {
     "end_time": "2020-07-13T02:07:28.434882Z",
     "start_time": "2020-07-13T02:07:25.153136Z"
    }
   },
   "outputs": [
    {
     "name": "stderr",
     "output_type": "stream",
     "text": [
      "2020-07-13 11:07:25,167\tINFO resource_spec.py:212 -- Starting Ray with 4.74 GiB memory available for workers and up to 2.39 GiB for objects. You can adjust these settings with ray.init(memory=<bytes>, object_store_memory=<bytes>).\n",
      "2020-07-13 11:07:25,281\tWARNING services.py:923 -- Redis failed to start, retrying now.\n",
      "2020-07-13 11:07:25,529\tWARNING services.py:923 -- Redis failed to start, retrying now.\n",
      "2020-07-13 11:07:26,368\tINFO services.py:1165 -- View the Ray dashboard at \u001b[1m\u001b[32m127.0.0.1:8265\u001b[39m\u001b[22m\n"
     ]
    }
   ],
   "source": [
    "import time\n",
    "\n",
    "import ray\n",
    "\n",
    "# ray.init() のように明示的に指定しなかった場合自動的にリソース数が決定されます\n",
    "ray.init(webui_host='127.0.0.1')\n",
    "\n",
    "# 時間計測をより正確にする都合上Rayの起動を少し待つ\n",
    "time.sleep(1)"
   ]
  },
  {
   "cell_type": "code",
   "execution_count": 5,
   "metadata": {
    "ExecuteTime": {
     "end_time": "2020-07-13T02:07:40.212598Z",
     "start_time": "2020-07-13T02:07:37.184965Z"
    }
   },
   "outputs": [
    {
     "name": "stdout",
     "output_type": "stream",
     "text": [
      "ObjectID(45b95b1c8bd3a9c4ffffffff010000c001000000)\n",
      "1 2\n",
      "[1, 2]\n",
      "3.0192511081695557\n"
     ]
    }
   ],
   "source": [
    "@ray.remote\n",
    "def func(x):\n",
    "    time.sleep(3)\n",
    "    return x\n",
    "\n",
    "begin_time = time.time()\n",
    "res1, res2 = func.remote(1), func.remote(2)\n",
    "print(res1) # 出力例: ObjectID(45b9....) \n",
    "print(ray.get(res1), ray.get(res2)) # 出力: 1 2\n",
    "# ray.getはリストを受けとることもできる\n",
    "print(ray.get([res1, res2])) # 出力: [1, 2]\n",
    "end_time = time.time()\n",
    "print(end_time - begin_time) # 3秒ぐらい"
   ]
  },
  {
   "cell_type": "code",
   "execution_count": 6,
   "metadata": {
    "ExecuteTime": {
     "end_time": "2020-07-13T02:08:05.834231Z",
     "start_time": "2020-07-13T02:08:05.822055Z"
    }
   },
   "outputs": [],
   "source": [
    "import math\n",
    "import random\n",
    "import time\n",
    "\n",
    "\n",
    "@ray.remote\n",
    "def sample(num_samples):\n",
    "    num_inside = 0\n",
    "    for _ in range(num_samples):\n",
    "        x, y = random.uniform(-1, 1), random.uniform(-1, 1)\n",
    "        if math.hypot(x, y) <= 1:\n",
    "            num_inside += 1\n",
    "    return num_inside\n",
    "\n",
    "def approximate_pi_distributed(num_samples):\n",
    "    from ray.util.multiprocessing.pool import Pool # NOTE: Only the import statement is changed.\n",
    "    pool = Pool()\n",
    "        \n",
    "    start = time.time()\n",
    "    num_inside = 0\n",
    "    sample_batch_size = 100000\n",
    "    for result in [ sample.remote(sample_batch_size) for _ in range(num_samples//sample_batch_size)]:\n",
    "        print(result)\n",
    "        print(ray.get(result))\n",
    "#         num_inside += result\n",
    "        \n",
    "    print(\"pi ~= {}\".format((4*num_inside)/num_samples))\n",
    "    print(\"Finished in: {:.2f}s\".format(time.time()-start))\n"
   ]
  },
  {
   "cell_type": "code",
   "execution_count": null,
   "metadata": {
    "ExecuteTime": {
     "start_time": "2020-07-13T02:08:06.472Z"
    }
   },
   "outputs": [
    {
     "name": "stdout",
     "output_type": "stream",
     "text": [
      "ObjectID(b944ee5bb38dd1a5ffffffff010000c001000000)\n"
     ]
    },
    {
     "name": "stderr",
     "output_type": "stream",
     "text": [
      "2020-07-13 11:08:07,070\tWARNING worker.py:1047 -- The actor or task with ID b944ee5bb38dd1a5ffffffff0100 is pending and cannot currently be scheduled. It requires {CPU: 1.000000} for execution and {CPU: 1.000000} for placement, but this node only has remaining {memory: 4.736328 GiB}, {node:192.168.11.2: 1.000000}, {object_store_memory: 1.611328 GiB}. In total there are 1 pending tasks and 0 pending actors on this node. This is likely due to all cluster resources being claimed by actors. To resolve the issue, consider creating fewer actors or increase the resources available to this Ray cluster. You can ignore this message if this Ray cluster is expected to auto-scale.\n",
      "2020-07-13 11:08:07,238\tINFO (unknown file):0 -- gc.collect() freed 60 refs in 0.0715512270000005 seconds\n"
     ]
    }
   ],
   "source": [
    "approximate_pi_distributed(100_000_000)"
   ]
  },
  {
   "cell_type": "code",
   "execution_count": null,
   "metadata": {},
   "outputs": [],
   "source": []
  }
 ],
 "metadata": {
  "kernelspec": {
   "display_name": "Python 3",
   "language": "python",
   "name": "python3"
  },
  "language_info": {
   "codemirror_mode": {
    "name": "ipython",
    "version": 3
   },
   "file_extension": ".py",
   "mimetype": "text/x-python",
   "name": "python",
   "nbconvert_exporter": "python",
   "pygments_lexer": "ipython3",
   "version": "3.7.6"
  },
  "toc": {
   "base_numbering": 1,
   "nav_menu": {},
   "number_sections": true,
   "sideBar": true,
   "skip_h1_title": false,
   "title_cell": "Table of Contents",
   "title_sidebar": "Contents",
   "toc_cell": false,
   "toc_position": {},
   "toc_section_display": true,
   "toc_window_display": false
  },
  "varInspector": {
   "cols": {
    "lenName": 16,
    "lenType": 16,
    "lenVar": 40
   },
   "kernels_config": {
    "python": {
     "delete_cmd_postfix": "",
     "delete_cmd_prefix": "del ",
     "library": "var_list.py",
     "varRefreshCmd": "print(var_dic_list())"
    },
    "r": {
     "delete_cmd_postfix": ") ",
     "delete_cmd_prefix": "rm(",
     "library": "var_list.r",
     "varRefreshCmd": "cat(var_dic_list()) "
    }
   },
   "types_to_exclude": [
    "module",
    "function",
    "builtin_function_or_method",
    "instance",
    "_Feature"
   ],
   "window_display": false
  }
 },
 "nbformat": 4,
 "nbformat_minor": 4
}
