{
 "cells": [
  {
   "cell_type": "markdown",
   "metadata": {
    "hide_input": false
   },
   "source": [
    "# Your First Data Class"
   ]
  },
  {
   "cell_type": "code",
   "execution_count": 1,
   "metadata": {
    "ExecuteTime": {
     "end_time": "2020-05-29T14:32:43.888805Z",
     "start_time": "2020-05-29T14:32:43.878543Z"
    }
   },
   "outputs": [],
   "source": [
    "from dataclasses import dataclass\n",
    "\n",
    "@dataclass\n",
    "class Coordinate:\n",
    "    x:int\n",
    "    y:int\n",
    "    z:int"
   ]
  },
  {
   "cell_type": "code",
   "execution_count": 2,
   "metadata": {
    "ExecuteTime": {
     "end_time": "2020-05-29T14:32:58.298725Z",
     "start_time": "2020-05-29T14:32:58.291783Z"
    }
   },
   "outputs": [
    {
     "name": "stdout",
     "output_type": "stream",
     "text": [
      "Coordinate(x=4, y=5, z=3)\n"
     ]
    }
   ],
   "source": [
    "a = Coordinate(4,5,3)\n",
    "print(a)"
   ]
  },
  {
   "cell_type": "markdown",
   "metadata": {
    "ExecuteTime": {
     "end_time": "2020-05-29T14:33:45.610501Z",
     "start_time": "2020-05-29T14:33:45.605643Z"
    }
   },
   "source": [
    "# Default Values for Fields"
   ]
  },
  {
   "cell_type": "code",
   "execution_count": 4,
   "metadata": {
    "ExecuteTime": {
     "end_time": "2020-05-29T14:34:42.630590Z",
     "start_time": "2020-05-29T14:34:42.624094Z"
    },
    "hide_input": false
   },
   "outputs": [],
   "source": [
    "@dataclass\n",
    "class CircleArea:\n",
    "    r: int\n",
    "    pi: float=3.14\n",
    "        \n",
    "    @property\n",
    "    def area(self):\n",
    "        return self.pi * (self.r **2 )"
   ]
  },
  {
   "cell_type": "code",
   "execution_count": 5,
   "metadata": {
    "ExecuteTime": {
     "end_time": "2020-05-29T14:35:30.418197Z",
     "start_time": "2020-05-29T14:35:30.409702Z"
    }
   },
   "outputs": [
    {
     "name": "stdout",
     "output_type": "stream",
     "text": [
      "CircleArea(r=2, pi=3.14)\n",
      "12.56\n"
     ]
    }
   ],
   "source": [
    "a = CircleArea(2)\n",
    "print(repr(a))\n",
    "print(a.area)"
   ]
  },
  {
   "cell_type": "markdown",
   "metadata": {
    "ExecuteTime": {
     "end_time": "2020-05-29T14:36:04.329748Z",
     "start_time": "2020-05-29T14:36:04.324553Z"
    }
   },
   "source": [
    "# Customizing fields and data classes"
   ]
  },
  {
   "cell_type": "markdown",
   "metadata": {},
   "source": [
    "## Mutable dataclass"
   ]
  },
  {
   "cell_type": "code",
   "execution_count": 8,
   "metadata": {
    "ExecuteTime": {
     "end_time": "2020-05-29T14:41:23.411370Z",
     "start_time": "2020-05-29T14:41:23.402631Z"
    }
   },
   "outputs": [
    {
     "name": "stdout",
     "output_type": "stream",
     "text": [
      "CircleArea(r=5, pi=3.14)\n",
      "78.5\n"
     ]
    }
   ],
   "source": [
    "a = CircleArea(2)\n",
    "a.r = 5\n",
    "print(repr(a))\n",
    "print(a.area)"
   ]
  },
  {
   "cell_type": "markdown",
   "metadata": {},
   "source": [
    "## Immutable example"
   ]
  },
  {
   "cell_type": "code",
   "execution_count": 9,
   "metadata": {
    "ExecuteTime": {
     "end_time": "2020-05-29T14:42:48.907798Z",
     "start_time": "2020-05-29T14:42:48.886187Z"
    }
   },
   "outputs": [
    {
     "ename": "FrozenInstanceError",
     "evalue": "cannot assign to field 'r'",
     "output_type": "error",
     "traceback": [
      "\u001b[0;31m---------------------------------------------------------------------------\u001b[0m",
      "\u001b[0;31mFrozenInstanceError\u001b[0m                       Traceback (most recent call last)",
      "\u001b[0;32m<ipython-input-9-27409a86c418>\u001b[0m in \u001b[0;36m<module>\u001b[0;34m\u001b[0m\n\u001b[1;32m      9\u001b[0m \u001b[0;34m\u001b[0m\u001b[0m\n\u001b[1;32m     10\u001b[0m \u001b[0ma\u001b[0m \u001b[0;34m=\u001b[0m \u001b[0mCircleArea\u001b[0m\u001b[0;34m(\u001b[0m\u001b[0;36m2\u001b[0m\u001b[0;34m)\u001b[0m\u001b[0;34m\u001b[0m\u001b[0;34m\u001b[0m\u001b[0m\n\u001b[0;32m---> 11\u001b[0;31m \u001b[0ma\u001b[0m\u001b[0;34m.\u001b[0m\u001b[0mr\u001b[0m \u001b[0;34m=\u001b[0m \u001b[0;36m5\u001b[0m\u001b[0;34m\u001b[0m\u001b[0;34m\u001b[0m\u001b[0m\n\u001b[0m",
      "\u001b[0;32m<string>\u001b[0m in \u001b[0;36m__setattr__\u001b[0;34m(self, name, value)\u001b[0m\n",
      "\u001b[0;31mFrozenInstanceError\u001b[0m: cannot assign to field 'r'"
     ]
    }
   ],
   "source": [
    "@dataclass(frozen=True)\n",
    "class CircleArea:\n",
    "    r: int\n",
    "    pi: float = 3.14\n",
    "    \n",
    "    @property\n",
    "    def area(self):\n",
    "        return self.pi * (self.r ** 2)\n",
    "\n",
    "a = CircleArea(2)\n",
    "a.r = 5"
   ]
  },
  {
   "cell_type": "markdown",
   "metadata": {},
   "source": [
    "# Comparing Data Classes"
   ]
  },
  {
   "cell_type": "code",
   "execution_count": 10,
   "metadata": {
    "ExecuteTime": {
     "end_time": "2020-05-29T14:44:29.707652Z",
     "start_time": "2020-05-29T14:44:29.694367Z"
    }
   },
   "outputs": [
    {
     "name": "stdout",
     "output_type": "stream",
     "text": [
      "False\n"
     ]
    }
   ],
   "source": [
    "from dataclasses import dataclass, field\n",
    "\n",
    "@dataclass(order=True)\n",
    "class Vector:\n",
    "    x:int\n",
    "    y:int\n",
    "        \n",
    "v1= Vector(8, 15)\n",
    "v2 = Vector(7, 20)\n",
    "print(v2 > v1)"
   ]
  },
  {
   "cell_type": "code",
   "execution_count": 17,
   "metadata": {
    "ExecuteTime": {
     "end_time": "2020-05-29T14:49:22.705073Z",
     "start_time": "2020-05-29T14:49:22.694301Z"
    }
   },
   "outputs": [],
   "source": [
    "@dataclass(order=True)\n",
    "class Vector:\n",
    "    magnitude: float = field(init=False)\n",
    "    x: int\n",
    "    y: int\n",
    "\n",
    "    def __post_init__(self):\n",
    "        self.magnitude = (self.x ** 2 + self.y ** 2) ** 0.5"
   ]
  },
  {
   "cell_type": "code",
   "execution_count": 18,
   "metadata": {
    "ExecuteTime": {
     "end_time": "2020-05-29T14:49:22.921632Z",
     "start_time": "2020-05-29T14:49:22.913134Z"
    }
   },
   "outputs": [
    {
     "name": "stdout",
     "output_type": "stream",
     "text": [
      "Vector(magnitude=15.0, x=9, y=12)\n",
      "Vector(magnitude=17.0, x=8, y=15)\n",
      "True\n"
     ]
    }
   ],
   "source": [
    "v1 = Vector(9,12)\n",
    "print(v1)\n",
    "v2 = Vector(8,15)\n",
    "print(v2)\n",
    "\n",
    "print(v2 > v1)"
   ]
  },
  {
   "cell_type": "markdown",
   "metadata": {},
   "source": [
    "# Convert it to dictionary or tuple"
   ]
  },
  {
   "cell_type": "code",
   "execution_count": 21,
   "metadata": {
    "ExecuteTime": {
     "end_time": "2020-05-29T14:51:04.648931Z",
     "start_time": "2020-05-29T14:51:04.635774Z"
    }
   },
   "outputs": [
    {
     "name": "stdout",
     "output_type": "stream",
     "text": [
      "{'x': 4, 'y': 5, 'z': 7}\n",
      "(4, 5, 7)\n"
     ]
    }
   ],
   "source": [
    "from dataclasses import asdict, astuple\n",
    "\n",
    "@dataclass\n",
    "class Vector:\n",
    "    x:int\n",
    "    y:int\n",
    "    z:int\n",
    "\n",
    "v = Vector(4,5,7)\n",
    "print(asdict(v))\n",
    "print(astuple(v))"
   ]
  },
  {
   "cell_type": "markdown",
   "metadata": {},
   "source": [
    "# Inheritance"
   ]
  },
  {
   "cell_type": "code",
   "execution_count": 22,
   "metadata": {
    "ExecuteTime": {
     "end_time": "2020-05-29T14:52:24.091012Z",
     "start_time": "2020-05-29T14:52:24.078392Z"
    }
   },
   "outputs": [
    {
     "name": "stdout",
     "output_type": "stream",
     "text": [
      "Developer(name='Halil', lang='Python', salary=5000)\n"
     ]
    }
   ],
   "source": [
    "@dataclass\n",
    "class Employee:\n",
    "    name: str\n",
    "    lang: str\n",
    "        \n",
    "@dataclass\n",
    "class Developer(Employee):\n",
    "    salary: int\n",
    "        \n",
    "Halil = Developer('Halil', 'Python', 5000)\n",
    "print(Halil)"
   ]
  },
  {
   "cell_type": "code",
   "execution_count": 23,
   "metadata": {
    "ExecuteTime": {
     "end_time": "2020-05-29T14:53:52.331032Z",
     "start_time": "2020-05-29T14:53:52.321588Z"
    }
   },
   "outputs": [
    {
     "name": "stdout",
     "output_type": "stream",
     "text": [
      "Developer(name='Halil', lang='Python', salary=5000)\n"
     ]
    }
   ],
   "source": [
    "@dataclass\n",
    "class Employee:\n",
    "    name: str\n",
    "    lang: str = 'Python'\n",
    "\n",
    "\n",
    "@dataclass\n",
    "class Developer(Employee):\n",
    "    salary: int = 0\n",
    "\n",
    "\n",
    "Halil = Developer('Halil', 'Python', 5000)\n",
    "print(Halil)"
   ]
  },
  {
   "cell_type": "markdown",
   "metadata": {},
   "source": [
    "# Benefit from slots"
   ]
  },
  {
   "cell_type": "code",
   "execution_count": 24,
   "metadata": {
    "ExecuteTime": {
     "end_time": "2020-05-29T14:54:28.297780Z",
     "start_time": "2020-05-29T14:54:28.288905Z"
    }
   },
   "outputs": [
    {
     "name": "stdout",
     "output_type": "stream",
     "text": [
      "{'name': 'Halil', 'lang': 'Python'}\n"
     ]
    }
   ],
   "source": [
    "@dataclass\n",
    "class Employee:\n",
    "    name: str\n",
    "    lang: str\n",
    "\n",
    "\n",
    "Halil = Employee('Halil', 'Python')\n",
    "print(Halil.__dict__)"
   ]
  },
  {
   "cell_type": "code",
   "execution_count": 25,
   "metadata": {
    "ExecuteTime": {
     "end_time": "2020-05-29T14:54:42.441604Z",
     "start_time": "2020-05-29T14:54:42.434303Z"
    }
   },
   "outputs": [],
   "source": [
    "@dataclass\n",
    "class Employee:\n",
    "    __slots__ = ('name', 'lang')\n",
    "    name: str\n",
    "    lang: str\n",
    "\n",
    "\n",
    "Halil = Employee('Halil', 'Python')"
   ]
  },
  {
   "cell_type": "code",
   "execution_count": null,
   "metadata": {},
   "outputs": [],
   "source": []
  }
 ],
 "metadata": {
  "gist": {
   "data": {
    "description": "work/Untitled.ipynb",
    "public": false
   },
   "id": ""
  },
  "kernelspec": {
   "display_name": "Python 3",
   "language": "python",
   "name": "python3"
  },
  "language_info": {
   "codemirror_mode": {
    "name": "ipython",
    "version": 3
   },
   "file_extension": ".py",
   "mimetype": "text/x-python",
   "name": "python",
   "nbconvert_exporter": "python",
   "pygments_lexer": "ipython3",
   "version": "3.7.6"
  },
  "toc": {
   "base_numbering": 1,
   "nav_menu": {},
   "number_sections": true,
   "sideBar": true,
   "skip_h1_title": false,
   "title_cell": "Table of Contents",
   "title_sidebar": "Contents",
   "toc_cell": false,
   "toc_position": {},
   "toc_section_display": true,
   "toc_window_display": false
  }
 },
 "nbformat": 4,
 "nbformat_minor": 4
}
